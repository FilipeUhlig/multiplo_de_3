{
 "cells": [
  {
   "cell_type": "markdown",
   "id": "7f91c96e",
   "metadata": {},
   "source": [
    "### leia um n´umero, determine se ele ´e m´ultiplo de 3 e imprima na tela a mensagem ”Este n´umero ´e m´ultiplo de 3”ou ”Este n´umero n˜ao ´e m´ultiplo de 3”a depender do caso."
   ]
  },
  {
   "cell_type": "code",
   "execution_count": 1,
   "id": "df0819b7",
   "metadata": {},
   "outputs": [],
   "source": [
    "x = 0"
   ]
  },
  {
   "cell_type": "code",
   "execution_count": 16,
   "id": "742dc407",
   "metadata": {},
   "outputs": [
    {
     "name": "stdout",
     "output_type": "stream",
     "text": [
      "Qual o número desejado? 93\n"
     ]
    }
   ],
   "source": [
    "x = float(input(\"Qual o número desejado? \"))"
   ]
  },
  {
   "cell_type": "code",
   "execution_count": 17,
   "id": "41c66905",
   "metadata": {},
   "outputs": [
    {
     "name": "stdout",
     "output_type": "stream",
     "text": [
      "O número 93.0 é múltiplo de 3.\n"
     ]
    }
   ],
   "source": [
    "if (x % 3) == 0 and int(x) == x:\n",
    "    print(f\"O número {x} é múltiplo de 3.\")\n",
    "    \n",
    "elif (x % 3) != 0 and int(x) == x:\n",
    "    print(f\"O número {x} não é múltiplo de 3.\")\n",
    "\n",
    "else:\n",
    "    print(\"O número é não inteiro.\")"
   ]
  },
  {
   "cell_type": "code",
   "execution_count": null,
   "id": "a945310a",
   "metadata": {},
   "outputs": [],
   "source": []
  }
 ],
 "metadata": {
  "kernelspec": {
   "display_name": "Python 3 (ipykernel)",
   "language": "python",
   "name": "python3"
  },
  "language_info": {
   "codemirror_mode": {
    "name": "ipython",
    "version": 3
   },
   "file_extension": ".py",
   "mimetype": "text/x-python",
   "name": "python",
   "nbconvert_exporter": "python",
   "pygments_lexer": "ipython3",
   "version": "3.10.9"
  }
 },
 "nbformat": 4,
 "nbformat_minor": 5
}
